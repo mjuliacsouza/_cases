{
  "nbformat": 4,
  "nbformat_minor": 0,
  "metadata": {
    "colab": {
      "name": "Template_Case_5.ipynb",
      "provenance": [],
      "collapsed_sections": [
        "so8VdGPqMV7I",
        "Z_vPRvHhLtKO",
        "E5I2GqEDMZti"
      ],
      "toc_visible": true
    },
    "kernelspec": {
      "name": "python3",
      "display_name": "Python 3"
    },
    "language_info": {
      "name": "python"
    }
  },
  "cells": [
    {
      "cell_type": "markdown",
      "metadata": {
        "id": "so8VdGPqMV7I"
      },
      "source": [
        "#Imports"
      ]
    },
    {
      "cell_type": "code",
      "metadata": {
        "id": "9UbaIt_pMPrf"
      },
      "source": [
        "#Import das libs\n",
        "import pandas as pd\n",
        "import numpy as np\n",
        "import math\n",
        "import matplotlib.pyplot as plt\n",
        "\n",
        "# Display dos parâmetros\n",
        "from IPython.display import display\n",
        "from ipywidgets import interact, IntSlider\n",
        "\n",
        "# Separação dos dados\n",
        "from sklearn.model_selection import train_test_split \n",
        "from sklearn.model_selection import TimeSeriesSplit \n",
        "\n",
        "# Modelagem\n",
        "from sklearn.metrics import (explained_variance_score, \n",
        "                             mean_absolute_error, \n",
        "                             mean_squared_error, \n",
        "                             mean_squared_log_error,\n",
        "                             r2_score)\n",
        "from sklearn.ensemble import RandomForestRegressor \n",
        "from sklearn.model_selection import GridSearchCV  "
      ],
      "execution_count": 1,
      "outputs": []
    },
    {
      "cell_type": "code",
      "metadata": {
        "id": "xhyYj8TFMTkt",
        "colab": {
          "base_uri": "https://localhost:8080/"
        },
        "outputId": "dac55828-f976-4c60-ea8a-2fa655c94459"
      },
      "source": [
        "# Carga dos dados \n",
        "df_hist = pd.read_csv('./Dados/Histórico_Demanda_Elétrica_Peru_2006-2021.csv', parse_dates=['date'])\n",
        "df_tempo = pd.read_csv('./Dados/Tempo_Lima_2006-2021.csv',delimiter=',')\n",
        "print(df_hist.shape)\n",
        "print(df_tempo.shape)"
      ],
      "execution_count": 2,
      "outputs": [
        {
          "output_type": "stream",
          "text": [
            "(537696, 2)\n",
            "(116934, 7)\n"
          ],
          "name": "stdout"
        }
      ]
    },
    {
      "cell_type": "markdown",
      "metadata": {
        "id": "Z_vPRvHhLtKO"
      },
      "source": [
        "#1 - Análise Exploratória\n"
      ]
    },
    {
      "cell_type": "markdown",
      "metadata": {
        "id": "R4pA18bvVGyY"
      },
      "source": [
        "Para realizar essa etapa deve-se ter em mente as duas perguntas:\n",
        "<ol>\n",
        "<li> Como se comporta a demanda elétrica ao longo dos anos, meses, semanas, dias...?</li>\n",
        "<li> Como se dá a ocorrência do pico intra diário?</li>"
      ]
    },
    {
      "cell_type": "markdown",
      "metadata": {
        "id": "lHrnWayuV84K"
      },
      "source": [
        "Vamos analisar cada um dos datasets separadamente, inicialmente."
      ]
    },
    {
      "cell_type": "markdown",
      "metadata": {
        "id": "VPyjw6jlU8rZ"
      },
      "source": [
        "## 1.1 - Histórico"
      ]
    },
    {
      "cell_type": "markdown",
      "metadata": {
        "id": "xjKHEkF-WDaB"
      },
      "source": [
        "**Histórico da demanda**: série temporal com o histórico da demanda de potência\n",
        "elétrica da rede peruana com intervalo de amostragem de 15 minutos. A seguir\n",
        "um descritivo breve das colunas presentes na base de dados.\n",
        "<ul>\n",
        "  <li>a. Nome do arquivo: Histórico Potência.csv</li>\n",
        "  <li>b. Colunas:</li>\n",
        "    <ul>\n",
        "      <li>i. FECHA: momento da amostragem da demanda energética</li>\n",
        "      <li>ii. EJECUTADO: valor da demanda de potência da rede elétrica peruana em MW </li>\n",
        "    </ul>\n",
        "</ul>"
      ]
    },
    {
      "cell_type": "code",
      "metadata": {
        "id": "E5cKiOkqWovv",
        "colab": {
          "base_uri": "https://localhost:8080/",
          "height": 204
        },
        "outputId": "75ad01c0-7877-4ef6-b5fd-25e835b37265"
      },
      "source": [
        "df_hist.head()"
      ],
      "execution_count": 3,
      "outputs": [
        {
          "output_type": "execute_result",
          "data": {
            "text/html": [
              "<div>\n",
              "<style scoped>\n",
              "    .dataframe tbody tr th:only-of-type {\n",
              "        vertical-align: middle;\n",
              "    }\n",
              "\n",
              "    .dataframe tbody tr th {\n",
              "        vertical-align: top;\n",
              "    }\n",
              "\n",
              "    .dataframe thead th {\n",
              "        text-align: right;\n",
              "    }\n",
              "</style>\n",
              "<table border=\"1\" class=\"dataframe\">\n",
              "  <thead>\n",
              "    <tr style=\"text-align: right;\">\n",
              "      <th></th>\n",
              "      <th>date</th>\n",
              "      <th>executado</th>\n",
              "    </tr>\n",
              "  </thead>\n",
              "  <tbody>\n",
              "    <tr>\n",
              "      <th>0</th>\n",
              "      <td>2006-01-01 00:00:00</td>\n",
              "      <td>2069.01876</td>\n",
              "    </tr>\n",
              "    <tr>\n",
              "      <th>1</th>\n",
              "      <td>2006-01-01 00:15:00</td>\n",
              "      <td>2733.44840</td>\n",
              "    </tr>\n",
              "    <tr>\n",
              "      <th>2</th>\n",
              "      <td>2006-01-01 00:30:00</td>\n",
              "      <td>2681.27092</td>\n",
              "    </tr>\n",
              "    <tr>\n",
              "      <th>3</th>\n",
              "      <td>2006-01-01 00:45:00</td>\n",
              "      <td>2633.54249</td>\n",
              "    </tr>\n",
              "    <tr>\n",
              "      <th>4</th>\n",
              "      <td>2006-01-01 01:00:00</td>\n",
              "      <td>2611.28745</td>\n",
              "    </tr>\n",
              "  </tbody>\n",
              "</table>\n",
              "</div>"
            ],
            "text/plain": [
              "                 date   executado\n",
              "0 2006-01-01 00:00:00  2069.01876\n",
              "1 2006-01-01 00:15:00  2733.44840\n",
              "2 2006-01-01 00:30:00  2681.27092\n",
              "3 2006-01-01 00:45:00  2633.54249\n",
              "4 2006-01-01 01:00:00  2611.28745"
            ]
          },
          "metadata": {
            "tags": []
          },
          "execution_count": 3
        }
      ]
    },
    {
      "cell_type": "code",
      "metadata": {
        "colab": {
          "base_uri": "https://localhost:8080/"
        },
        "id": "gyTElS_hqRSI",
        "outputId": "832528cd-c054-4a9b-da57-b377ac1a2736"
      },
      "source": [
        "df_hist.info()"
      ],
      "execution_count": 4,
      "outputs": [
        {
          "output_type": "stream",
          "text": [
            "<class 'pandas.core.frame.DataFrame'>\n",
            "RangeIndex: 537696 entries, 0 to 537695\n",
            "Data columns (total 2 columns):\n",
            " #   Column     Non-Null Count   Dtype         \n",
            "---  ------     --------------   -----         \n",
            " 0   date       537696 non-null  datetime64[ns]\n",
            " 1   executado  537696 non-null  float64       \n",
            "dtypes: datetime64[ns](1), float64(1)\n",
            "memory usage: 8.2 MB\n"
          ],
          "name": "stdout"
        }
      ]
    },
    {
      "cell_type": "markdown",
      "metadata": {
        "id": "h0UMRkZ8VCSR"
      },
      "source": [
        "## 1.2 - Tempo"
      ]
    },
    {
      "cell_type": "markdown",
      "metadata": {
        "id": "oZYjfOwJWsXh"
      },
      "source": [
        "**Dados meteorológicos**: histórico de temperatura e umidade da cidade mais\n",
        "populosa do Peru (Lima), com intervalo de amostragem de 1 hora. A seguir um\n",
        "descritivo breve das colunas presentes na base de dados.\n",
        "<ul>\n",
        "  <li>a. Nome do arquivo: Temperatura Lima 2018 - 2021.csv</li>\n",
        "  <li>b. Colunas</li>\n",
        "    <ul>\n",
        "      <li>i. FECHA: momento da amostragem dos dados meteorológicos</li>\n",
        "      <li>ii. TEMPERATURA (°C): temperatura medida, em graus Celsius (°C)</li>\n",
        "      <li>iii. PRECIPITACIÓN (mm/hora): precipitação medida, em milímetro por hora (mm/hora)</li>\n",
        "      <li> iv. HUMEDAD (%): umidade medida, em porcentagem (%)</li>\n",
        "      <li> v. DIRECCION DEL VIENTO (°): direção do vento, em graus (o)</li>\n",
        "      <li>vi. VELOCIDAD DEL VIENTO (m/s): velocidade do vento, m/s</li>"
      ]
    },
    {
      "cell_type": "markdown",
      "metadata": {
        "id": "ZbeO5e14A-r1"
      },
      "source": [
        "O primeiro problema problema que foi encontrado foi na instância 61564 que apresenta um erro em seus valores que será tratado de forma a apenas colocar seus valores de 'DATE' e 'HOUR', anulando o restante."
      ]
    },
    {
      "cell_type": "code",
      "metadata": {
        "id": "l-fO2lR2EWSE"
      },
      "source": [
        "list_61564 = df_tempo.loc[61564,:]['DATE'].split(',')\n",
        "df_tempo.loc[61564,'DATE'] = list_61564[0]\n",
        "df_tempo.loc[61564,'HOUR'] = list_61564[1]"
      ],
      "execution_count": 5,
      "outputs": []
    },
    {
      "cell_type": "markdown",
      "metadata": {
        "id": "8gBK4moMAs-u"
      },
      "source": [
        "Ao começar a lidar com o dataset de Tempo, percebeu-se alguns erros tratados a seguir, primeiramente, percebe-se que há instâncias não apresentam valor na coluna hora e que esse valor está junto à coluna date, a seguir isso é corrigido para que por todo o dataset tenhamos as colunas de hora e data separadamente."
      ]
    },
    {
      "cell_type": "code",
      "metadata": {
        "id": "QPKkYmg8Ex5t"
      },
      "source": [
        "df_tempo['DATE'] = pd.to_datetime(df_tempo['DATE'], errors='raise')\n",
        "df_tempo['HOUR'] = pd.to_datetime(df_tempo['HOUR'], errors='raise')"
      ],
      "execution_count": 6,
      "outputs": []
    },
    {
      "cell_type": "code",
      "metadata": {
        "id": "suwjVUo_G705"
      },
      "source": [
        "df_tempo['HOUR'] = df_tempo['HOUR'].dt.time"
      ],
      "execution_count": 7,
      "outputs": []
    },
    {
      "cell_type": "code",
      "metadata": {
        "id": "dsw879h1EjP5"
      },
      "source": [
        "subst = df_tempo[df_tempo['HOUR'].isnull() == True]['DATE'].dt.time\n",
        "lista_nulos = list(df_tempo[df_tempo['HOUR'].isnull() == True]['HOUR'].index)\n",
        "df_tempo.loc[lista_nulos, 'HOUR'] = subst"
      ],
      "execution_count": 8,
      "outputs": []
    },
    {
      "cell_type": "markdown",
      "metadata": {
        "id": "-FM4bqgtBlqk"
      },
      "source": [
        "Uma primeira observação é que, com exceção das colunas de data e hora, o restante das colunas apresentam um número significativo de valores nulos."
      ]
    },
    {
      "cell_type": "code",
      "metadata": {
        "colab": {
          "base_uri": "https://localhost:8080/",
          "height": 204
        },
        "id": "efRL7k5ISkmh",
        "outputId": "b414ea8c-8042-43a8-9dbf-5f385c43ad27"
      },
      "source": [
        "df_tempo.head()"
      ],
      "execution_count": 18,
      "outputs": [
        {
          "output_type": "execute_result",
          "data": {
            "text/html": [
              "<div>\n",
              "<style scoped>\n",
              "    .dataframe tbody tr th:only-of-type {\n",
              "        vertical-align: middle;\n",
              "    }\n",
              "\n",
              "    .dataframe tbody tr th {\n",
              "        vertical-align: top;\n",
              "    }\n",
              "\n",
              "    .dataframe thead th {\n",
              "        text-align: right;\n",
              "    }\n",
              "</style>\n",
              "<table border=\"1\" class=\"dataframe\">\n",
              "  <thead>\n",
              "    <tr style=\"text-align: right;\">\n",
              "      <th></th>\n",
              "      <th>DATE</th>\n",
              "      <th>HOUR</th>\n",
              "      <th>TEMP</th>\n",
              "      <th>PREC_H</th>\n",
              "      <th>HUM</th>\n",
              "      <th>W_DIR</th>\n",
              "      <th>W_VEL</th>\n",
              "    </tr>\n",
              "  </thead>\n",
              "  <tbody>\n",
              "    <tr>\n",
              "      <th>0</th>\n",
              "      <td>2006-01-01</td>\n",
              "      <td>00:00:00</td>\n",
              "      <td>NaN</td>\n",
              "      <td>NaN</td>\n",
              "      <td>NaN</td>\n",
              "      <td>NaN</td>\n",
              "      <td>NaN</td>\n",
              "    </tr>\n",
              "    <tr>\n",
              "      <th>1</th>\n",
              "      <td>2006-01-02</td>\n",
              "      <td>00:00:00</td>\n",
              "      <td>NaN</td>\n",
              "      <td>NaN</td>\n",
              "      <td>NaN</td>\n",
              "      <td>NaN</td>\n",
              "      <td>NaN</td>\n",
              "    </tr>\n",
              "    <tr>\n",
              "      <th>2</th>\n",
              "      <td>2006-01-03</td>\n",
              "      <td>00:00:00</td>\n",
              "      <td>NaN</td>\n",
              "      <td>NaN</td>\n",
              "      <td>NaN</td>\n",
              "      <td>NaN</td>\n",
              "      <td>NaN</td>\n",
              "    </tr>\n",
              "    <tr>\n",
              "      <th>3</th>\n",
              "      <td>2006-01-04</td>\n",
              "      <td>00:00:00</td>\n",
              "      <td>NaN</td>\n",
              "      <td>NaN</td>\n",
              "      <td>NaN</td>\n",
              "      <td>NaN</td>\n",
              "      <td>NaN</td>\n",
              "    </tr>\n",
              "    <tr>\n",
              "      <th>4</th>\n",
              "      <td>2006-01-05</td>\n",
              "      <td>00:00:00</td>\n",
              "      <td>NaN</td>\n",
              "      <td>NaN</td>\n",
              "      <td>NaN</td>\n",
              "      <td>NaN</td>\n",
              "      <td>NaN</td>\n",
              "    </tr>\n",
              "  </tbody>\n",
              "</table>\n",
              "</div>"
            ],
            "text/plain": [
              "        DATE      HOUR  TEMP  PREC_H  HUM  W_DIR  W_VEL\n",
              "0 2006-01-01  00:00:00   NaN     NaN  NaN    NaN    NaN\n",
              "1 2006-01-02  00:00:00   NaN     NaN  NaN    NaN    NaN\n",
              "2 2006-01-03  00:00:00   NaN     NaN  NaN    NaN    NaN\n",
              "3 2006-01-04  00:00:00   NaN     NaN  NaN    NaN    NaN\n",
              "4 2006-01-05  00:00:00   NaN     NaN  NaN    NaN    NaN"
            ]
          },
          "metadata": {
            "tags": []
          },
          "execution_count": 18
        }
      ]
    },
    {
      "cell_type": "markdown",
      "metadata": {
        "id": "eTd9y1GJSoXr"
      },
      "source": [
        "Uma importante observação é que a coluna 'HOUR' foi convertida para um tipo 'datetime.time' que aparece aqui como um 'dtype' de 'object'."
      ]
    },
    {
      "cell_type": "code",
      "metadata": {
        "colab": {
          "base_uri": "https://localhost:8080/"
        },
        "id": "thLL_jYISmWY",
        "outputId": "911130b6-19d2-4dca-806c-dac7deac986b"
      },
      "source": [
        "df_tempo.info()"
      ],
      "execution_count": 19,
      "outputs": [
        {
          "output_type": "stream",
          "text": [
            "<class 'pandas.core.frame.DataFrame'>\n",
            "RangeIndex: 116934 entries, 0 to 116933\n",
            "Data columns (total 7 columns):\n",
            " #   Column  Non-Null Count   Dtype         \n",
            "---  ------  --------------   -----         \n",
            " 0   DATE    116934 non-null  datetime64[ns]\n",
            " 1   HOUR    116934 non-null  object        \n",
            " 2   TEMP    98744 non-null   float64       \n",
            " 3   PREC_H  72417 non-null   float64       \n",
            " 4   HUM     98773 non-null   float64       \n",
            " 5   W_DIR   98758 non-null   float64       \n",
            " 6   W_VEL   98760 non-null   float64       \n",
            "dtypes: datetime64[ns](1), float64(5), object(1)\n",
            "memory usage: 6.2+ MB\n"
          ],
          "name": "stdout"
        }
      ]
    },
    {
      "cell_type": "markdown",
      "metadata": {
        "id": "E5I2GqEDMZti"
      },
      "source": [
        "#2 - Feature engineering"
      ]
    },
    {
      "cell_type": "code",
      "metadata": {
        "id": "fYBgsqcyMbvG"
      },
      "source": [
        "### Perguntas Direcionadoras ###\n",
        "#Quais são as features que podem ajudar a prever a demanda elétrica?\n",
        "#Lembrem-se de correlação vs causalidade"
      ],
      "execution_count": 10,
      "outputs": []
    },
    {
      "cell_type": "markdown",
      "metadata": {
        "id": "XI_h9c7JMjho"
      },
      "source": [
        "#3 - Construção do Modelo"
      ]
    },
    {
      "cell_type": "code",
      "metadata": {
        "id": "Y1BZ4VDjMqsf"
      },
      "source": [
        "#Dica 1: pense nas métricas de sucesso\n",
        "#Dica 2: pense numa janela para o test set coerente com o problema (sugestão: utilize pelo menos 1 mês)\n",
        "#Dica 3: comece com modelos mais simples\n",
        "#ATENÇÃO!: cuidado com vazamento de dados do train set para o test set!"
      ],
      "execution_count": 11,
      "outputs": []
    },
    {
      "cell_type": "markdown",
      "metadata": {
        "id": "2iy1uFCBM3Jf"
      },
      "source": [
        "#4 - Backtest"
      ]
    },
    {
      "cell_type": "code",
      "metadata": {
        "id": "Juw7SNIrM544"
      },
      "source": [
        "#Dica 1: pense numa janela para o test set coerente com o problema (sugestão: utilize pelo menos 1 mês)\n",
        "#Dica 2: construa uma função para automatizar esse trabalho\n",
        "#ATENÇÃO!: cuidado com vazamento de dados do train set para o test set!"
      ],
      "execution_count": 12,
      "outputs": []
    },
    {
      "cell_type": "markdown",
      "metadata": {
        "id": "QGabQYKPOKW9"
      },
      "source": [
        "#5 - Previsão do dia  03/05/2021"
      ]
    },
    {
      "cell_type": "code",
      "metadata": {
        "id": "ls0P0RlvONvR"
      },
      "source": [
        "#Lembre-se de salvar a previsão com o nome do arquivo seguindo o padrão 'VAI_previsao_M6_nome_sobrenome.csv'\n",
        "#e com a estrutura do arquivo seguindo o mesmo padrão do data set 'Histórico Demanda Elétrica Peru 2006 - 2021.csv'"
      ],
      "execution_count": 13,
      "outputs": []
    }
  ]
}